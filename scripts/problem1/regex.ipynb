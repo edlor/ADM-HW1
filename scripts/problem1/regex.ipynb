{
 "cells": [
  {
   "cell_type": "markdown",
   "id": "5a2e0c2b-916a-4459-99c3-5ca379812c8b",
   "metadata": {},
   "source": [
    "# Regex\n",
    "https://www.hackerrank.com/domains/python/py-regex"
   ]
  },
  {
   "cell_type": "markdown",
   "id": "05befd3f-1270-4ab7-b42e-856b644a4269",
   "metadata": {},
   "source": [
    "### Detect Floating Point Number\n",
    "https://www.hackerrank.com/challenges/introduction-to-regex"
   ]
  },
  {
   "cell_type": "code",
   "execution_count": null,
   "id": "a0e1d424-34c4-4d11-a592-945bfa384b70",
   "metadata": {},
   "outputs": [],
   "source": [
    "import re\n",
    "\n",
    "T = int(input())\n",
    "\n",
    "for _ in range(T):\n",
    "    N = input()\n",
    "    \n",
    "    result = bool(re.search(\"^[\\+\\-\\.]?[0-9]*\\.[0-9]+$\", N))\n",
    "    \n",
    "    print(result)"
   ]
  },
  {
   "cell_type": "markdown",
   "id": "70fac4e2-7270-487a-9806-f592ed793897",
   "metadata": {},
   "source": [
    "### Re.split()\n",
    "https://www.hackerrank.com/challenges/re-split"
   ]
  },
  {
   "cell_type": "code",
   "execution_count": null,
   "id": "1408d722-7a6c-4957-bb42-9eff8b3fed4f",
   "metadata": {},
   "outputs": [],
   "source": [
    "import re\n",
    "\n",
    "regex_pattern = r\",|\\.\"\n",
    "\n",
    "print(\"\\n\".join(re.split(regex_pattern, input())))"
   ]
  },
  {
   "cell_type": "markdown",
   "id": "f842d516-e08d-455c-b7dd-546c2449ad30",
   "metadata": {},
   "source": [
    "### Group(), Groups() & Groupdict()\n",
    "https://www.hackerrank.com/challenges/re-group-groups"
   ]
  },
  {
   "cell_type": "code",
   "execution_count": null,
   "id": "a1f8ae19-9b6a-4145-9197-ca6526fabb00",
   "metadata": {},
   "outputs": [],
   "source": [
    "import re\n",
    "\n",
    "S = input()\n",
    "\n",
    "m = re.search(r\"([0-9a-zA-Z])\\1\", S)\n",
    "\n",
    "try:\n",
    "    print(m.group(1))\n",
    "except AttributeError as err:\n",
    "    print(-1)"
   ]
  },
  {
   "cell_type": "markdown",
   "id": "60756ccd-69f3-4efa-98fb-b0f02b40d025",
   "metadata": {},
   "source": [
    "### Re.findall() & Re.finditer()\n",
    "https://www.hackerrank.com/challenges/re-findall-re-finditer"
   ]
  },
  {
   "cell_type": "code",
   "execution_count": null,
   "id": "1199f167-b654-47b4-a1db-516cd316c57a",
   "metadata": {},
   "outputs": [],
   "source": [
    "import re\n",
    "\n",
    "S = input()\n",
    "\n",
    "m = re.findall(r\"(?<=[qwrtypsdfghjklzxcvbnm])[aeiou]{2,}(?=[qwrtypsdfghjklzxcvbnm])\", S, re.I)\n",
    "\n",
    "if len(m) > 0:\n",
    "    print(\"\\n\".join(m))\n",
    "else:\n",
    "    print(-1)"
   ]
  },
  {
   "cell_type": "markdown",
   "id": "a441effa-3492-4be4-8a04-3dd97bc4ff29",
   "metadata": {},
   "source": [
    "### Re.start() & Re.end()\n",
    "https://www.hackerrank.com/challenges/re-start-re-end"
   ]
  },
  {
   "cell_type": "code",
   "execution_count": null,
   "id": "d7f276a3-df73-4f30-9f87-9c7a2e541238",
   "metadata": {},
   "outputs": [],
   "source": [
    "import re\n",
    "\n",
    "S = input()\n",
    "k = input()\n",
    "\n",
    "m = re.search(r\"%s\" %k, S)\n",
    "\n",
    "if m:\n",
    "    for idx, _ in enumerate(S):\n",
    "        m = re.search(r\"%s\" %k, S[idx:idx + len(k)])\n",
    "        if m:\n",
    "            print((idx + m.start(), idx + m.end() - 1))\n",
    "else:\n",
    "    print((-1, -1))"
   ]
  },
  {
   "cell_type": "markdown",
   "id": "54383279-ec07-418a-b450-40e572fc3893",
   "metadata": {},
   "source": [
    "### Regex Substition\n",
    "https://www.hackerrank.com/challenges/re-sub-regex-substitution"
   ]
  },
  {
   "cell_type": "code",
   "execution_count": null,
   "id": "970cd337-0b1c-4a6d-a0a4-f59831bc02c4",
   "metadata": {},
   "outputs": [],
   "source": [
    "import re\n",
    "\n",
    "N = int(input())\n",
    "\n",
    "subs = [{\"pattern\": r\"(?<=\\s)(\\&\\&)(?=\\s)\", \"repl\": \"and\"},\\\n",
    "        {\"pattern\": r\"(?<=\\s)(\\|\\|)(?=\\s)\", \"repl\": \"or\"}]\n",
    "\n",
    "for _ in range(N):\n",
    "    line = input()\n",
    "    \n",
    "    for sub in subs:\n",
    "        line = re.sub(sub['pattern'], sub['repl'], line)\n",
    "    \n",
    "    print(line)"
   ]
  },
  {
   "cell_type": "markdown",
   "id": "7654afd2-5281-41c6-b88e-454563b5e8dc",
   "metadata": {},
   "source": [
    "### Validating Roman Numerals\n",
    "https://www.hackerrank.com/challenges/validate-a-roman-number\n",
    "\n",
    "I unlocked test case 9."
   ]
  },
  {
   "cell_type": "code",
   "execution_count": null,
   "id": "18e021ca-bbe8-4dfd-9812-6ff013db85b7",
   "metadata": {},
   "outputs": [],
   "source": [
    "regex_pattern = r\"^(?:M{1,3})?(?:CM|DC{0,3}|CD)?(?:C{1,3}|XC)?(?:L?X{0,3}|XL)?(?:IX|VI{0,3}|IV|I{1,3})?$\"\n",
    "\n",
    "import re\n",
    "print(str(bool(re.match(regex_pattern, input()))))"
   ]
  },
  {
   "cell_type": "markdown",
   "id": "bb5cd10e-c9d0-4188-a961-d974e7980c9a",
   "metadata": {},
   "source": [
    "### Validating phone numbers\n",
    "https://www.hackerrank.com/challenges/validating-the-phone-number"
   ]
  },
  {
   "cell_type": "code",
   "execution_count": null,
   "id": "08c62024-2531-4f2e-8ad4-806e10ca29e8",
   "metadata": {},
   "outputs": [],
   "source": [
    "import re\n",
    "\n",
    "N = int(input())\n",
    "\n",
    "for _ in range(N):\n",
    "    number = input()\n",
    "    \n",
    "    m = re.match(r\"^[789][0-9]{9}$\", number)\n",
    "\n",
    "    print(\"YES\" if m else \"NO\")"
   ]
  },
  {
   "cell_type": "markdown",
   "id": "65c94bd6-65e8-4f88-89cb-cc4f4ca2d8b3",
   "metadata": {},
   "source": [
    "### Validating and Parsing Email Addresses\n",
    "https://www.hackerrank.com/challenges/validating-named-email-addresses"
   ]
  },
  {
   "cell_type": "code",
   "execution_count": null,
   "id": "1e0fc679-f139-48ef-ad9b-74a826ec14a6",
   "metadata": {},
   "outputs": [],
   "source": [
    "import re\n",
    "import email.utils\n",
    "\n",
    "n = int(input())\n",
    "\n",
    "for _ in range(n):\n",
    "    user = input()\n",
    "    address = email.utils.parseaddr(user)[1]\n",
    "    \n",
    "    address_regex = r\"^[a-zA-Z]+[\\w\\-\\.\\_]+\\@[a-zA-Z]+\\.[a-zA-Z]{1,3}$\"\n",
    "    m = re.search(address_regex, address)\n",
    "\n",
    "    if m:\n",
    "        print(user)"
   ]
  },
  {
   "cell_type": "markdown",
   "id": "9445ebd0-a8c9-4e4e-a4c9-c1d0a256a0af",
   "metadata": {},
   "source": [
    "### Hex Color Code\n",
    "https://www.hackerrank.com/challenges/hex-color-code"
   ]
  },
  {
   "cell_type": "code",
   "execution_count": null,
   "id": "2850b3e2-2021-48a0-afbe-f86acdbaaa15",
   "metadata": {},
   "outputs": [],
   "source": [
    "import re\n",
    "\n",
    "N = int(input())\n",
    "\n",
    "for _ in range(N):\n",
    "    line = input()\n",
    "\n",
    "    pattern = r\"(#[0-9a-f]{6}|#[0-9a-f]{3})[;,\\)]\"\n",
    "    m = re.findall(pattern, line, re.I)\n",
    "    \n",
    "    if len(m) > 0:\n",
    "        print(\"\\n\".join(m))"
   ]
  },
  {
   "cell_type": "markdown",
   "id": "227f9b9f-1337-46ef-b3d2-25414f8964a7",
   "metadata": {},
   "source": [
    "### HTML Parser - Part 1\n",
    "https://www.hackerrank.com/challenges/html-parser-part-1"
   ]
  },
  {
   "cell_type": "code",
   "execution_count": null,
   "id": "6df5d58f-f190-4a43-984b-ba0954c128a0",
   "metadata": {},
   "outputs": [],
   "source": [
    "import re\n",
    "from html.parser import HTMLParser\n",
    "\n",
    "class MyHTMLParser(HTMLParser):\n",
    "    def handle_starttag(self, tag, attrs):\n",
    "        print(\"Start :\", tag)\n",
    "        for attr in attrs:\n",
    "            print(\"->\", attr[0], \">\", attr[1] if attr[1] else \"None\")\n",
    "\n",
    "    def handle_endtag(self, tag):\n",
    "        print(\"End   :\", tag)\n",
    "        \n",
    "    def handle_startendtag(self, tag, attrs):\n",
    "        print(\"Empty :\", tag)\n",
    "        for attr in attrs:\n",
    "            print(\"->\", attr[0], \">\", attr[1] if attr[1] else \"None\")\n",
    "        \n",
    "    def handle_comment(self, data):\n",
    "        pass\n",
    "        \n",
    "N = int(input())\n",
    "\n",
    "html_feed = \"\".join([input() for _ in range(N)])\n",
    "\n",
    "parser = MyHTMLParser() \n",
    "parser.feed(html_feed)"
   ]
  },
  {
   "cell_type": "markdown",
   "id": "4812bb9d-7d09-4447-aec6-9abcde2004a2",
   "metadata": {},
   "source": [
    "### HTML Parser - Part 2\n",
    "https://www.hackerrank.com/challenges/html-parser-part-2"
   ]
  },
  {
   "cell_type": "code",
   "execution_count": null,
   "id": "5065c464-c159-484d-b635-8ec0335b92ed",
   "metadata": {},
   "outputs": [],
   "source": [
    "from html.parser import HTMLParser\n",
    "\n",
    "class MyHTMLParser(HTMLParser):    \n",
    "    def handle_data(self, data):\n",
    "        if data != '\\n':\n",
    "            print(f\">>> Data\\n{data}\")\n",
    "            \n",
    "    def handle_comment(self, data):\n",
    "        comment = data.split(\"\\n\")\n",
    "        if len(comment) == 1:\n",
    "            print(\">>> Single-line Comment\")\n",
    "        else:\n",
    "            print(\">>> Multi-line Comment\") \n",
    "        \n",
    "        print(\"\\n\".join(comment))\n",
    "                \n",
    "html = \"\"       \n",
    "for i in range(int(input())):\n",
    "    html += input().rstrip()\n",
    "    html += '\\n'\n",
    "    \n",
    "parser = MyHTMLParser()\n",
    "parser.feed(html)\n",
    "parser.close()"
   ]
  },
  {
   "cell_type": "markdown",
   "id": "081d9927-8cd0-45c4-bcac-da273a8fd0fc",
   "metadata": {},
   "source": [
    "### Detect HTML Tags, Attributes and Attribute Values\n",
    "https://www.hackerrank.com/challenges/detect-html-tags-attributes-and-attribute-values"
   ]
  },
  {
   "cell_type": "code",
   "execution_count": null,
   "id": "f9127ab6-3f8e-4150-b584-ad231d71d1fc",
   "metadata": {},
   "outputs": [],
   "source": [
    "import re\n",
    "from html.parser import HTMLParser\n",
    "\n",
    "class MyHTMLParser(HTMLParser):\n",
    "    def handle_starttag(self, tag, attrs):\n",
    "        print(tag)\n",
    "        for attr in attrs:\n",
    "            print(\"->\", attr[0], \">\", attr[1] if attr[1] else \"None\")\n",
    "\n",
    "N = int(input())\n",
    "\n",
    "html_feed = \"\".join([input() for _ in range(N)])\n",
    "\n",
    "parser = MyHTMLParser() \n",
    "parser.feed(html_feed)"
   ]
  },
  {
   "cell_type": "markdown",
   "id": "313cebf3-94a9-4a03-92b3-6a93fb888134",
   "metadata": {},
   "source": [
    "### Validating UID\n",
    "https://www.hackerrank.com/challenges/validating-uid"
   ]
  },
  {
   "cell_type": "code",
   "execution_count": null,
   "id": "673ccada-a5ea-46d3-9768-c33818c1e488",
   "metadata": {},
   "outputs": [],
   "source": [
    "import re\n",
    "\n",
    "T = int(input())\n",
    "\n",
    "for _ in range(T):\n",
    "    uid = input()\n",
    "    \n",
    "    length_match = bool(re.findall(r\"^\\w{10}$\", uid))\n",
    "    rep_match = bool(re.findall(r\"(\\w)\\w*\\1\", uid)) # repetitions\n",
    "    upper_match = len(re.findall(r\"[A-Z]\", uid))\n",
    "    digits_match = len(re.findall(r\"[0-9]\", uid))\n",
    "     \n",
    "    if length_match == True \\\n",
    "        and rep_match == False \\\n",
    "        and upper_match >= 2 \\\n",
    "        and digits_match >= 3:\n",
    "        print(\"Valid\")\n",
    "    else:\n",
    "        print(\"Invalid\")"
   ]
  },
  {
   "cell_type": "markdown",
   "id": "0774aad2-8b3e-4499-8421-dd62e7695ac2",
   "metadata": {},
   "source": [
    "### Validating Credit Card Numbers\n",
    "https://www.hackerrank.com/challenges/validating-credit-card-number"
   ]
  },
  {
   "cell_type": "code",
   "execution_count": null,
   "id": "7a030265-32b4-4ad4-a8fc-2efe28ebed46",
   "metadata": {},
   "outputs": [],
   "source": [
    "import re\n",
    "\n",
    "N = int(input())\n",
    "\n",
    "for _ in range(N):\n",
    "    card_num = input()\n",
    "\n",
    "    structure_match = bool(re.findall(r\"^[0-9]{16}$|^[0-9]{4}-[0-9]{4}-[0-9]{4}-[0-9]{4}$\", card_num))\n",
    "    start_match = bool(re.findall(r\"^[456]\", card_num))\n",
    "    rep_match = bool(re.findall(r\"([0-9])\\1{3}\", card_num.replace(\"-\",\"\"))) # repetitions\n",
    "     \n",
    "    if structure_match is True \\\n",
    "        and start_match is True \\\n",
    "        and rep_match is False:\n",
    "        print(\"Valid\")\n",
    "    else:\n",
    "        print(\"Invalid\")"
   ]
  },
  {
   "cell_type": "markdown",
   "id": "e0f08dc6-3c77-4a7c-9902-2406429a0e91",
   "metadata": {},
   "source": [
    "### Validating Postal Codes\n",
    "https://www.hackerrank.com/challenges/validating-postalcode"
   ]
  },
  {
   "cell_type": "code",
   "execution_count": null,
   "id": "5a9df103-fe68-40f7-aa4e-ec6e1cfedf17",
   "metadata": {},
   "outputs": [],
   "source": [
    "regex_integer_in_range = r\"^[1-9][0-9]{5}$\"    # Do not delete 'r'.\n",
    "regex_alternating_repetitive_digit_pair = r\"(.)(?=.\\1)\"    # Do not delete 'r'.\n",
    "\n",
    "import re\n",
    "P = input()\n",
    "\n",
    "print (bool(re.match(regex_integer_in_range, P)) \n",
    "and len(re.findall(regex_alternating_repetitive_digit_pair, P)) < 2)"
   ]
  },
  {
   "cell_type": "markdown",
   "id": "ffa80c89-54ed-41eb-ac71-9edb9d92646f",
   "metadata": {},
   "source": [
    "### Matrix Script\n",
    "https://www.hackerrank.com/challenges/matrix-script"
   ]
  },
  {
   "cell_type": "code",
   "execution_count": null,
   "id": "e439cc0d-3650-4e1f-9d7b-70287d731f2f",
   "metadata": {},
   "outputs": [],
   "source": [
    "import re\n",
    "\n",
    "N, M = list(map(int, input().split()))\n",
    "\n",
    "matrix = [input() for _ in range(N)]\n",
    "matrix_transp = list(zip(*matrix))\n",
    "\n",
    "encoded_message = \"\".join(map(\"\".join, matrix_transp))\n",
    "decoded_message = re.sub(r\"(?<=\\w)(\\s|\\W)+(?=\\w)\", \" \", encoded_message)\n",
    "\n",
    "print(decoded_message)"
   ]
  }
 ],
 "metadata": {
  "kernelspec": {
   "display_name": "Python 3 (ipykernel)",
   "language": "python",
   "name": "python3"
  },
  "language_info": {
   "codemirror_mode": {
    "name": "ipython",
    "version": 3
   },
   "file_extension": ".py",
   "mimetype": "text/x-python",
   "name": "python",
   "nbconvert_exporter": "python",
   "pygments_lexer": "ipython3",
   "version": "3.7.11"
  }
 },
 "nbformat": 4,
 "nbformat_minor": 5
}
