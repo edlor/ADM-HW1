{
 "cells": [
  {
   "cell_type": "markdown",
   "id": "2919aa4a-1c4f-43f2-8cbf-e02243d200e4",
   "metadata": {
    "tags": []
   },
   "source": [
    "# Numpy\n",
    "https://www.hackerrank.com/domains/python/numpy"
   ]
  },
  {
   "cell_type": "code",
   "execution_count": null,
   "id": "dfb60b25-8792-40cd-80aa-896d2a3b0010",
   "metadata": {},
   "outputs": [],
   "source": [
    "import numpy"
   ]
  },
  {
   "cell_type": "markdown",
   "id": "c2b7bfe9-9ce4-461a-bd26-10142ce3a50f",
   "metadata": {
    "tags": []
   },
   "source": [
    "### Arrays\n",
    "https://www.hackerrank.com/challenges/np-arrays/problem"
   ]
  },
  {
   "cell_type": "code",
   "execution_count": null,
   "id": "d2e41f0e-4d5b-44fb-9421-e476d1acefcc",
   "metadata": {},
   "outputs": [],
   "source": [
    "def arrays(arr):\n",
    "    return numpy.array(arr[::-1], float)\n",
    "\n",
    "arr = input().strip().split(' ')\n",
    "result = arrays(arr)\n",
    "print(result)"
   ]
  },
  {
   "cell_type": "markdown",
   "id": "0e2174d1-2477-4052-a18f-ffdd062fda04",
   "metadata": {},
   "source": [
    "### Shape and Reshape\n",
    "https://www.hackerrank.com/challenges/np-shape-reshape/problem"
   ]
  },
  {
   "cell_type": "code",
   "execution_count": null,
   "id": "9d08acdd-5c6c-488e-8077-1617589d7463",
   "metadata": {},
   "outputs": [],
   "source": [
    "arr = numpy.array(input().split(), int)\n",
    "print(numpy.reshape(arr, (3,3)))"
   ]
  },
  {
   "cell_type": "markdown",
   "id": "5dd45761-9695-4ef2-96e6-558873786b90",
   "metadata": {},
   "source": [
    "### Transpose and Flatten\n",
    "https://www.hackerrank.com/challenges/np-transpose-and-flatten/problem"
   ]
  },
  {
   "cell_type": "code",
   "execution_count": null,
   "id": "0278d7ab-3eb2-4935-b4ae-5c52dca345f4",
   "metadata": {},
   "outputs": [],
   "source": [
    "N, M = map(int, input().split())\n",
    "lst = [input().split() for _ in range(N)]\n",
    "\n",
    "arr = numpy.array(lst, int)\n",
    "\n",
    "print(numpy.transpose(arr))\n",
    "print(arr.flatten())"
   ]
  },
  {
   "cell_type": "markdown",
   "id": "18ad218f-8186-41ec-b53c-8c22759fa230",
   "metadata": {},
   "source": [
    "### Concatenate\n",
    "https://www.hackerrank.com/challenges/np-concatenate/problem"
   ]
  },
  {
   "cell_type": "code",
   "execution_count": null,
   "id": "ef7ea03c-b748-417f-890e-c24147e6b5e0",
   "metadata": {},
   "outputs": [],
   "source": [
    "N, M, P = map(int, input().split())\n",
    "\n",
    "arr1 = numpy.array([input().split() for _ in range(N)], int)\n",
    "arr2 = numpy.array([input().split() for _ in range(M)], int)\n",
    "\n",
    "print(numpy.concatenate((arr1, arr2), axis = 0))"
   ]
  },
  {
   "cell_type": "markdown",
   "id": "d8575761-15c1-4085-b508-c7501a6ef5c3",
   "metadata": {},
   "source": [
    "### Zeros and Ones\n",
    "https://www.hackerrank.com/challenges/np-zeros-and-ones/problem"
   ]
  },
  {
   "cell_type": "code",
   "execution_count": null,
   "id": "0bd2efa1-4888-400b-8a69-ca89fbb3a887",
   "metadata": {},
   "outputs": [],
   "source": [
    "shape = tuple(map(int, input().split()))\n",
    "\n",
    "print(numpy.zeros(shape, dtype = int))\n",
    "print(numpy.ones(shape, dtype = int))"
   ]
  },
  {
   "cell_type": "markdown",
   "id": "b6a34f1a-3638-44e6-b470-936a45be0059",
   "metadata": {},
   "source": [
    "### Eye and Identity\n",
    "https://www.hackerrank.com/challenges/np-eye-and-identity/problem"
   ]
  },
  {
   "cell_type": "code",
   "execution_count": null,
   "id": "def19b96-2ae9-4ca2-8d6e-238e7ed40945",
   "metadata": {},
   "outputs": [],
   "source": [
    "numpy.set_printoptions(legacy = '1.13')\n",
    "\n",
    "N, M = map(int, input().split())\n",
    "\n",
    "print(numpy.eye(N, M, k=0))"
   ]
  },
  {
   "cell_type": "code",
   "execution_count": null,
   "id": "94283a72-59f6-40bc-b911-20e2c1d589b6",
   "metadata": {},
   "outputs": [],
   "source": [
    "# reset printoptions to default setting\n",
    "numpy.set_printoptions(legacy = False)"
   ]
  },
  {
   "cell_type": "markdown",
   "id": "675e1f3a-502a-4371-9e05-d8b1cc502d97",
   "metadata": {},
   "source": [
    "### Array Mathematics\n",
    "https://www.hackerrank.com/challenges/np-array-mathematics/problem"
   ]
  },
  {
   "cell_type": "code",
   "execution_count": null,
   "id": "6681bae5-614a-4580-9587-488b8ebfaacf",
   "metadata": {},
   "outputs": [],
   "source": [
    "N, M = map(int, input().split())\n",
    "\n",
    "arr_A = numpy.array([input().split() for _ in range(N)], int)\n",
    "arr_B = numpy.array([input().split() for _ in range(N)], int)\n",
    "\n",
    "print(arr_A + arr_B)\n",
    "print(arr_A - arr_B)\n",
    "print(arr_A * arr_B)\n",
    "print(arr_A // arr_B)\n",
    "print(arr_A % arr_B)\n",
    "print(arr_A ** arr_B)"
   ]
  },
  {
   "cell_type": "markdown",
   "id": "53fd4c78-dc60-4fae-aca2-65c3bfb5d292",
   "metadata": {},
   "source": [
    "### Floor, Ceil and Rint\n",
    "https://www.hackerrank.com/challenges/floor-ceil-and-rint/problem"
   ]
  },
  {
   "cell_type": "code",
   "execution_count": null,
   "id": "a1068ce9-ceb2-4bb6-9360-2b4bf269a844",
   "metadata": {},
   "outputs": [],
   "source": [
    "numpy.set_printoptions(legacy = '1.13')\n",
    "\n",
    "A = numpy.array(input().split(), float)\n",
    "\n",
    "print(numpy.floor(A), numpy.ceil(A), numpy.rint(A), sep=\"\\n\")"
   ]
  },
  {
   "cell_type": "code",
   "execution_count": null,
   "id": "4eb66d24-f9a2-41a8-ab86-a1dff1d95b61",
   "metadata": {},
   "outputs": [],
   "source": [
    "# reset printoptions to default setting\n",
    "numpy.set_printoptions(legacy = False)"
   ]
  },
  {
   "cell_type": "markdown",
   "id": "53d29735-aa4c-4f6a-8204-086e618d8ba5",
   "metadata": {},
   "source": [
    "### Sum and Prod\n",
    "https://www.hackerrank.com/challenges/np-sum-and-prod/problem"
   ]
  },
  {
   "cell_type": "code",
   "execution_count": null,
   "id": "cabfa7c7-6cb4-4172-89c7-35ec713ebad4",
   "metadata": {},
   "outputs": [],
   "source": [
    "N, M = map(int, input().split())\n",
    "\n",
    "arr = numpy.array([input().split() for _ in range(N)], int)\n",
    "\n",
    "sum_arr = numpy.sum(arr, axis = 0)\n",
    "prod_arr = numpy.prod(sum_arr)\n",
    "\n",
    "print(prod_arr)"
   ]
  },
  {
   "cell_type": "markdown",
   "id": "422af6d1-bdc5-4b94-8e1c-22b977d1db5a",
   "metadata": {},
   "source": [
    "### Min and Max\n",
    "https://www.hackerrank.com/challenges/np-min-and-max/problem"
   ]
  },
  {
   "cell_type": "code",
   "execution_count": null,
   "id": "56423a76-e516-41e9-9705-6752fa4301e5",
   "metadata": {},
   "outputs": [],
   "source": [
    "N, M = map(int, input().split())\n",
    "\n",
    "arr = numpy.array([input().split() for _ in range(N)], int)\n",
    "\n",
    "min_arr = numpy.min(arr, axis = 1)\n",
    "max_arr = numpy.max(min_arr)\n",
    "\n",
    "print(max_arr)"
   ]
  },
  {
   "cell_type": "markdown",
   "id": "81914e65-5fe6-41cc-8d6d-7b4f44d002bc",
   "metadata": {},
   "source": [
    "### Mean, Var, and Std\n",
    "https://www.hackerrank.com/challenges/np-mean-var-and-std/problem"
   ]
  },
  {
   "cell_type": "code",
   "execution_count": null,
   "id": "dc994cc7-baa2-42f6-aa4f-f482ea3c47f7",
   "metadata": {},
   "outputs": [],
   "source": [
    "N, M = map(int, input().split())\n",
    "\n",
    "arr = numpy.array([input().split() for _ in range(N)], int)\n",
    "\n",
    "print(numpy.mean(arr, axis = 1))\n",
    "print(numpy.var(arr, axis = 0))\n",
    "print(round(numpy.std(arr), 11))"
   ]
  },
  {
   "cell_type": "markdown",
   "id": "584ea552-fe9e-44b7-83f7-9c83023a5d50",
   "metadata": {},
   "source": [
    "### Dot and Cross\n",
    "https://www.hackerrank.com/challenges/np-dot-and-cross/problem"
   ]
  },
  {
   "cell_type": "code",
   "execution_count": null,
   "id": "e05585b0-9025-49b8-8726-e7e2cc1003cd",
   "metadata": {},
   "outputs": [],
   "source": [
    "N = int(input())\n",
    "\n",
    "A = numpy.array([input().split() for _ in range(N)], int)\n",
    "B = numpy.array([input().split() for _ in range(N)], int)\n",
    "\n",
    "print(numpy.dot(A, B))"
   ]
  },
  {
   "cell_type": "markdown",
   "id": "8ea2b73d-b38c-4923-9bcb-994efe414389",
   "metadata": {},
   "source": [
    "### Inner and Outer\n",
    "https://www.hackerrank.com/challenges/np-inner-and-outer/problem"
   ]
  },
  {
   "cell_type": "code",
   "execution_count": null,
   "id": "5c685295-5ce3-4f3e-a436-a54d5b6fa1d4",
   "metadata": {},
   "outputs": [],
   "source": [
    "A = numpy.array(input().split(), int)\n",
    "B = numpy.array(input().split(), int)\n",
    "\n",
    "print(numpy.inner(A, B), numpy.outer(A, B), sep = \"\\n\")"
   ]
  },
  {
   "cell_type": "markdown",
   "id": "617fe9a4-49bc-4451-8208-545c3f51f30d",
   "metadata": {},
   "source": [
    "### Polynomials\n",
    "https://www.hackerrank.com/challenges/np-polynomials/problem"
   ]
  },
  {
   "cell_type": "code",
   "execution_count": null,
   "id": "15064109-f955-4c88-b442-d42c854de626",
   "metadata": {},
   "outputs": [],
   "source": [
    "P = numpy.array(input().split(), float)\n",
    "x = float(input())\n",
    "\n",
    "print(numpy.polyval(P, x))"
   ]
  },
  {
   "cell_type": "markdown",
   "id": "eb9dbf06-e42d-40a4-b3e5-117cd1bb66e4",
   "metadata": {},
   "source": [
    "### Linear Algebra\n",
    "https://www.hackerrank.com/challenges/np-linear-algebra/problem"
   ]
  },
  {
   "cell_type": "code",
   "execution_count": null,
   "id": "28c9549a-7ade-4ed4-8c62-bc58bd50d370",
   "metadata": {},
   "outputs": [],
   "source": [
    "N = int(input())\n",
    "\n",
    "A = numpy.array([input().split() for _ in range(N)], float)\n",
    "\n",
    "print(round(numpy.linalg.det(A), 2))"
   ]
  }
 ],
 "metadata": {
  "kernelspec": {
   "display_name": "Python 3 (ipykernel)",
   "language": "python",
   "name": "python3"
  },
  "language_info": {
   "codemirror_mode": {
    "name": "ipython",
    "version": 3
   },
   "file_extension": ".py",
   "mimetype": "text/x-python",
   "name": "python",
   "nbconvert_exporter": "python",
   "pygments_lexer": "ipython3",
   "version": "3.7.11"
  }
 },
 "nbformat": 4,
 "nbformat_minor": 5
}
