{
 "cells": [
  {
   "cell_type": "markdown",
   "id": "245b5ae7-a07b-4a56-9d4a-aa0e393821c5",
   "metadata": {},
   "source": [
    "# Sets\n",
    "https://www.hackerrank.com/domains/python/py-sets"
   ]
  },
  {
   "cell_type": "markdown",
   "id": "a1bedf94-8533-4427-88b2-9e2ea48ba3b4",
   "metadata": {},
   "source": [
    "### Introduction to sets\n",
    "https://www.hackerrank.com/challenges/py-introduction-to-sets"
   ]
  },
  {
   "cell_type": "code",
   "execution_count": null,
   "id": "685d391f-48d2-4926-920a-96f1b0e71f38",
   "metadata": {},
   "outputs": [],
   "source": [
    "def average(array):  \n",
    "    distinct_arr = set(array)\n",
    "    avg = sum(distinct_arr) / len(distinct_arr)\n",
    "    \n",
    "    return \"%.3f\" % avg\n",
    "\n",
    "if __name__ == '__main__':\n",
    "    n = int(input())\n",
    "    arr = list(map(int, input().split()))\n",
    "    result = average(arr)\n",
    "    print(result)"
   ]
  },
  {
   "cell_type": "markdown",
   "id": "0b56896f-9b7e-483b-b935-d167ae734162",
   "metadata": {},
   "source": [
    "### No Idea!\n",
    "https://www.hackerrank.com/challenges/no-idea"
   ]
  },
  {
   "cell_type": "code",
   "execution_count": null,
   "id": "5e6bf925-d26c-49a6-aed9-d7dbd9175b8c",
   "metadata": {},
   "outputs": [],
   "source": [
    "if __name__ == '__main__':\n",
    "    n,m = map(int, input().split())\n",
    "    arr = list(map(int, input().split()))\n",
    "    A = set(map(int, input().split()))\n",
    "    B = set(map(int, input().split()))\n",
    "\n",
    "    happiness = 0\n",
    "    for i in arr:\n",
    "        if i in A:\n",
    "            happiness += 1\n",
    "        elif i in B:\n",
    "            happiness += -1\n",
    "\n",
    "    print(happiness)"
   ]
  },
  {
   "cell_type": "markdown",
   "id": "31e83935-65a9-4c8a-8101-2d88eedbd87a",
   "metadata": {},
   "source": [
    "### Symmetric Difference\n",
    "https://www.hackerrank.com/challenges/symmetric-difference\n",
    "\n",
    "I could have simply used the `symmetric_difference()` method, but since the task was about 'completing the `symm_diff` function' it seemed more fitting to me to do it this way."
   ]
  },
  {
   "cell_type": "code",
   "execution_count": null,
   "id": "5f46d573-b023-4d4e-b1af-a72cf806f9d0",
   "metadata": {},
   "outputs": [],
   "source": [
    "def symm_diff(a, b):\n",
    "    diff_a = a.difference(b)\n",
    "    diff_b = b.difference(a)\n",
    "    \n",
    "    return diff_a.union(diff_b)\n",
    "\n",
    "if __name__ == '__main__':\n",
    "    M = int(input())\n",
    "    a = set(map(int, input().split()))\n",
    "    N = int(input())\n",
    "    b = set(map(int, input().split()))\n",
    "    \n",
    "    c = symm_diff(a,b)\n",
    "\n",
    "    for i in sorted(c):\n",
    "        print(i)"
   ]
  },
  {
   "cell_type": "markdown",
   "id": "c6fbbf89-2a72-483a-bd93-4c57aaff1129",
   "metadata": {},
   "source": [
    "### Set .add()\n",
    "https://www.hackerrank.com/challenges/py-set-add"
   ]
  },
  {
   "cell_type": "code",
   "execution_count": null,
   "id": "ad5b8556-5f6a-447e-9bdf-11e090cfa853",
   "metadata": {},
   "outputs": [],
   "source": [
    "N = int(input())\n",
    "\n",
    "countries = set()\n",
    "for _ in range(N):\n",
    "    countries.add(input())\n",
    "    \n",
    "print(len(countries))"
   ]
  },
  {
   "cell_type": "markdown",
   "id": "17f1a96a-f38d-44b1-9354-529bf4eea0e8",
   "metadata": {},
   "source": [
    "### Set .discard(), .remove() & .pop()\n",
    "https://www.hackerrank.com/challenges/py-set-discard-remove-pop"
   ]
  },
  {
   "cell_type": "code",
   "execution_count": null,
   "id": "155ca2c7-3497-41d6-bf30-3eeddf9ed413",
   "metadata": {},
   "outputs": [],
   "source": [
    "n = int(input())\n",
    "s = set(map(int, input().split()))\n",
    "N = int(input())\n",
    "\n",
    "for _ in range(N):\n",
    "    cmd = input().split()\n",
    "\n",
    "    if cmd[0] == \"discard\":\n",
    "        s.discard(int(cmd[1]))\n",
    "    elif cmd[0] == \"remove\":\n",
    "        s.remove(int(cmd[1]))\n",
    "    elif cmd[0] == \"pop\":\n",
    "        s.pop()\n",
    "\n",
    "print(sum(s))"
   ]
  },
  {
   "cell_type": "markdown",
   "id": "449aaeea-23ac-4c2c-aa3d-8cc4c1db0199",
   "metadata": {},
   "source": [
    "### Set .union() operation\n",
    "https://www.hackerrank.com/challenges/py-set-union"
   ]
  },
  {
   "cell_type": "code",
   "execution_count": null,
   "id": "2391d4a6-bab1-4166-80b6-b2688b51f5f3",
   "metadata": {},
   "outputs": [],
   "source": [
    "n = int(input())\n",
    "num_eng = set(map(int, input().split()))\n",
    "\n",
    "b = int(input())\n",
    "num_fra = set(map(int, input().split())) \n",
    "\n",
    "num_tot = num_eng.union(num_fra)\n",
    "\n",
    "print(len(num_tot))"
   ]
  },
  {
   "cell_type": "markdown",
   "id": "d73a828d-1706-4c8a-9447-e512819fbb24",
   "metadata": {},
   "source": [
    "### Set .intersection() Operation\n",
    "https://www.hackerrank.com/challenges/py-set-intersection-operation"
   ]
  },
  {
   "cell_type": "code",
   "execution_count": null,
   "id": "fb0b03ee-f7dc-4007-a957-5eb1028af024",
   "metadata": {},
   "outputs": [],
   "source": [
    "n = int(input())\n",
    "num_eng = set(map(int, input().split()))\n",
    "\n",
    "b = int(input())\n",
    "num_fra = set(map(int, input().split()))\n",
    "\n",
    "num_both = num_eng.intersection(num_fra)\n",
    "\n",
    "print(len(num_both))"
   ]
  },
  {
   "cell_type": "markdown",
   "id": "4df4e9aa-6d9b-4f19-bdaf-0584d487d4fd",
   "metadata": {},
   "source": [
    "### Set .difference() Operation\n",
    "https://www.hackerrank.com/challenges/py-set-difference-operation"
   ]
  },
  {
   "cell_type": "code",
   "execution_count": null,
   "id": "d99aa309-3ae3-40d2-b2db-69319a64e02d",
   "metadata": {},
   "outputs": [],
   "source": [
    "n = int(input())\n",
    "num_eng = set(map(int, input().split()))\n",
    "\n",
    "b = int(input())\n",
    "num_fra = set(map(int, input().split()))\n",
    "\n",
    "num_eng_only = num_eng.difference(num_fra)\n",
    "\n",
    "print(len(num_eng_only))"
   ]
  },
  {
   "cell_type": "markdown",
   "id": "28da7216-14b0-41f5-99cf-a48880892b25",
   "metadata": {},
   "source": [
    "### Set .symmetric_difference() Operation\n",
    "https://www.hackerrank.com/challenges/py-set-symmetric-difference-operation"
   ]
  },
  {
   "cell_type": "code",
   "execution_count": null,
   "id": "0949bf1c-522d-4d19-824f-f3c81aaf7f32",
   "metadata": {},
   "outputs": [],
   "source": [
    "n = int(input())\n",
    "num_eng = set(map(int, input().split()))\n",
    "\n",
    "b = int(input())\n",
    "num_fra = set(map(int, input().split()))\n",
    "\n",
    "symm_diff = num_eng.symmetric_difference(num_fra)\n",
    "\n",
    "print(len(symm_diff))"
   ]
  },
  {
   "cell_type": "markdown",
   "id": "c8238cb8-3155-436a-b792-84255178edd8",
   "metadata": {},
   "source": [
    "### Set Mutations\n",
    "https://www.hackerrank.com/challenges/py-set-mutations"
   ]
  },
  {
   "cell_type": "code",
   "execution_count": null,
   "id": "ecfa4040-2d9b-4f44-9494-ca39d6a03fb8",
   "metadata": {},
   "outputs": [],
   "source": [
    "len_A = int(input())\n",
    "A = set(map(int, input().split()))\n",
    "N = int(input())\n",
    "\n",
    "for line_num in range(2*N):\n",
    "\n",
    "    if line_num % 2 == 0:\n",
    "        operation = input().split()[0]\n",
    "    else:\n",
    "        other_set = set(map(int, input().split()))\n",
    "\n",
    "        if operation == \"intersection_update\":\n",
    "            A.intersection_update(other_set)\n",
    "        elif operation == \"update\":\n",
    "            A.update(other_set)\n",
    "        elif operation == \"symmetric_difference_update\":\n",
    "            A.symmetric_difference_update(other_set)\n",
    "        elif operation == \"difference_update\":\n",
    "            A.difference_update(other_set)\n",
    "\n",
    "print(sum(A))"
   ]
  },
  {
   "cell_type": "markdown",
   "id": "16fdbce3-5116-4eda-8f64-8cd1e992059f",
   "metadata": {},
   "source": [
    "### The Captain's Room\n",
    "https://www.hackerrank.com/challenges/py-the-captains-room"
   ]
  },
  {
   "cell_type": "code",
   "execution_count": null,
   "id": "04fb3ba9-d49c-4306-935f-4c3879c49527",
   "metadata": {},
   "outputs": [],
   "source": [
    "K = int(input())\n",
    "room_num_list = list(map(int, input().split()))\n",
    "\n",
    "unique_rooms = set(room_num_list)\n",
    "\n",
    "for num in unique_rooms:\n",
    "    room_num_list.remove(num)\n",
    "    if num not in room_num_list:\n",
    "        print(num)\n",
    "        break"
   ]
  },
  {
   "cell_type": "markdown",
   "id": "1fa744b9-ef48-4541-9fbf-09c33a1dd5cf",
   "metadata": {},
   "source": [
    "### Check Subset\n",
    "https://www.hackerrank.com/challenges/py-check-subset"
   ]
  },
  {
   "cell_type": "code",
   "execution_count": null,
   "id": "6d2ee9dc-1857-4524-8784-c4fe73ddf2d7",
   "metadata": {},
   "outputs": [],
   "source": [
    "T = int(input())\n",
    "\n",
    "for _ in range(T):\n",
    "    len_A = int(input())\n",
    "    A = set(map(int, input().split()))\n",
    "    len_B = int(input())\n",
    "    B = set(map(int, input().split()))\n",
    "\n",
    "    print(A.issubset(B))"
   ]
  },
  {
   "cell_type": "markdown",
   "id": "a1d914a5-3e1f-47cc-8f43-a6adfd5f0c06",
   "metadata": {},
   "source": [
    "### Check Strick Superset\n",
    "https://www.hackerrank.com/challenges/py-check-strict-superset"
   ]
  },
  {
   "cell_type": "code",
   "execution_count": null,
   "id": "d2602784-67e2-4a1a-b720-b9c84f3610de",
   "metadata": {},
   "outputs": [],
   "source": [
    "A = set(map(int, input().split()))\n",
    "n = int(input())\n",
    "\n",
    "count = 0\n",
    "for _ in range(n):\n",
    "    B = set(map(int, input().split()))\n",
    "    if A > B:\n",
    "        count +=1\n",
    "\n",
    "print(count == n)"
   ]
  }
 ],
 "metadata": {
  "kernelspec": {
   "display_name": "Python 3 (ipykernel)",
   "language": "python",
   "name": "python3"
  },
  "language_info": {
   "codemirror_mode": {
    "name": "ipython",
    "version": 3
   },
   "file_extension": ".py",
   "mimetype": "text/x-python",
   "name": "python",
   "nbconvert_exporter": "python",
   "pygments_lexer": "ipython3",
   "version": "3.7.11"
  }
 },
 "nbformat": 4,
 "nbformat_minor": 5
}
