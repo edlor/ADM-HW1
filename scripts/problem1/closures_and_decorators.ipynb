{
 "cells": [
  {
   "cell_type": "markdown",
   "id": "939c867e-2dfa-4a32-bcd8-52a63d332b91",
   "metadata": {},
   "source": [
    "# Closures and Decorators\n",
    "https://www.hackerrank.com/domains/python/closures-and-decorators"
   ]
  },
  {
   "cell_type": "markdown",
   "id": "623afb65-5c36-48b6-a7fe-078da7d870a5",
   "metadata": {},
   "source": [
    "### Standardize Mobile Number Using Decorators\n",
    "https://www.hackerrank.com/challenges/standardize-mobile-number-using-decorators"
   ]
  },
  {
   "cell_type": "code",
   "execution_count": null,
   "id": "d5b903c2-2786-4bf5-95da-70ab46950704",
   "metadata": {},
   "outputs": [],
   "source": [
    "def wrapper(func):\n",
    "    def std_num(l):\n",
    "        func([f\"+91 {num[-10:-5]} {num[-5:]}\" for num in l])\n",
    "    return std_num\n",
    "\n",
    "@wrapper\n",
    "def sort_phone(l):\n",
    "    print(*sorted(l), sep='\\n')\n",
    "\n",
    "if __name__ == '__main__':\n",
    "    l = [input() for _ in range(int(input()))]\n",
    "    sort_phone(l) "
   ]
  },
  {
   "cell_type": "markdown",
   "id": "3521e17b-4a22-41c8-8af3-c837bae50a1f",
   "metadata": {},
   "source": [
    "### Decorators 2 - Name Directory\n",
    "https://www.hackerrank.com/challenges/decorators-2-name-directory\n",
    "\n",
    "You can't use `itemgetter` even though it is suggested on the challenge description because otherwise you will fail those test cases where `age > 100` (e.g. `'100' < '2'`)."
   ]
  },
  {
   "cell_type": "markdown",
   "id": "03f6eb10-b019-49f7-9bf0-f07d2576d84f",
   "metadata": {},
   "source": [
    "This is the code with the working function"
   ]
  },
  {
   "cell_type": "code",
   "execution_count": null,
   "id": "46fc758c-7877-48b3-9da8-574b5901b1aa",
   "metadata": {},
   "outputs": [],
   "source": [
    "import operator\n",
    "\n",
    "def person_lister(func):\n",
    "    def inner(people):\n",
    "        sorted_by_age = sorted(people, key = lambda p: int(p[2]))\n",
    "        return([func(person) for person in sorted_by_age])\n",
    "    return inner\n",
    "\n",
    "@person_lister\n",
    "def name_format(person):\n",
    "    return (\"Mr. \" if person[3] == \"M\" else \"Ms. \") + person[0] + \" \" + person[1]\n",
    "\n",
    "if __name__ == '__main__':\n",
    "    people = [input().split() for i in range(int(input()))]\n",
    "    print(*name_format(people), sep='\\n')"
   ]
  },
  {
   "cell_type": "markdown",
   "id": "07ef0518-f7b4-47cf-8782-71d1ce085d8a",
   "metadata": {},
   "source": [
    "...and this would be the (recommended) function with `itemgetter`"
   ]
  },
  {
   "cell_type": "code",
   "execution_count": null,
   "id": "e1fe307c-4f68-4c46-807b-b38d904aa9b2",
   "metadata": {},
   "outputs": [],
   "source": [
    "def person_lister(func):\n",
    "    def inner(people):\n",
    "        people.sort(key = operator.itemgetter(2))\n",
    "        return([func(person) for person in people])\n",
    "    return inner"
   ]
  }
 ],
 "metadata": {
  "kernelspec": {
   "display_name": "Python 3 (ipykernel)",
   "language": "python",
   "name": "python3"
  },
  "language_info": {
   "codemirror_mode": {
    "name": "ipython",
    "version": 3
   },
   "file_extension": ".py",
   "mimetype": "text/x-python",
   "name": "python",
   "nbconvert_exporter": "python",
   "pygments_lexer": "ipython3",
   "version": "3.7.11"
  }
 },
 "nbformat": 4,
 "nbformat_minor": 5
}
