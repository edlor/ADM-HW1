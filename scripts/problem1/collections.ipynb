{
 "cells": [
  {
   "cell_type": "markdown",
   "id": "daec4ac5-6c90-4386-b630-fdbddc170011",
   "metadata": {},
   "source": [
    "# Collections\n",
    "https://www.hackerrank.com/domains/python/py-collections"
   ]
  },
  {
   "cell_type": "markdown",
   "id": "cb076a07-2392-4d35-a16a-3d33576be74f",
   "metadata": {},
   "source": [
    "### collections.Counter()\n",
    "https://www.hackerrank.com/challenges/collections-counter"
   ]
  },
  {
   "cell_type": "code",
   "execution_count": null,
   "id": "38f0d1e6-06ad-47bc-8f83-0a273467cc84",
   "metadata": {},
   "outputs": [],
   "source": [
    "from collections import Counter\n",
    "\n",
    "X = int(input())\n",
    "shoes_available = Counter(list(map(int, input().split())))\n",
    "N = int(input())\n",
    "\n",
    "money_earned = 0\n",
    "for _ in range(N):\n",
    "    size, price = list(map(int, input().split()))\n",
    "    \n",
    "    if size in shoes_available.keys():\n",
    "        \n",
    "        if shoes_available[size] != 0:\n",
    "            money_earned += price\n",
    "            shoes_available[size] += -1\n",
    "                    \n",
    "print(money_earned)"
   ]
  },
  {
   "cell_type": "markdown",
   "id": "e02447d6-fc82-4cfd-8b8a-8043d97be5c2",
   "metadata": {},
   "source": [
    "### DefaultDict Tutorial\n",
    "https://www.hackerrank.com/challenges/defaultdict-tutorial"
   ]
  },
  {
   "cell_type": "code",
   "execution_count": null,
   "id": "29b9f9f8-dbf2-409b-8dce-12d5f0e06090",
   "metadata": {},
   "outputs": [],
   "source": [
    "from collections import defaultdict\n",
    "\n",
    "n, m = map(int, input().split())\n",
    "A = [input() for _ in range(n)]\n",
    "B = [input() for _ in range(m)]\n",
    "\n",
    "dict_A = defaultdict(list)\n",
    "for index, word in enumerate(A):\n",
    "    dict_A[word].append(str(1 + index))\n",
    "\n",
    "for word in B:\n",
    "    if word in dict_A.keys():\n",
    "        print(\" \".join(dict_A[word]))\n",
    "    else:\n",
    "        print(-1)"
   ]
  },
  {
   "cell_type": "markdown",
   "id": "e5d9f344-5fc3-487f-bc6d-ec469b07feae",
   "metadata": {},
   "source": [
    "### Collections.namedtuple()\n",
    "https://www.hackerrank.com/challenges/py-collections-namedtuple"
   ]
  },
  {
   "cell_type": "code",
   "execution_count": null,
   "id": "66bbf612-6272-413b-ad59-86de9c91605b",
   "metadata": {},
   "outputs": [],
   "source": [
    "from collections import namedtuple\n",
    "\n",
    "N = int(input())\n",
    "\n",
    "col_names = \",\".join(input().split())\n",
    "Student = namedtuple('Student', col_names)\n",
    "\n",
    "tot_mark = 0\n",
    "for _ in range(N):\n",
    "    s = Student._make(input().split())\n",
    "    tot_mark += int(s.MARKS)\n",
    "\n",
    "print(tot_mark / N)"
   ]
  },
  {
   "cell_type": "markdown",
   "id": "77eaac93-0cd0-46e3-89ae-ed022b51f946",
   "metadata": {},
   "source": [
    "### Collections.OrderedDict()\n",
    "https://www.hackerrank.com/challenges/py-collections-ordereddict"
   ]
  },
  {
   "cell_type": "code",
   "execution_count": null,
   "id": "0668d4b2-5c25-4de7-9eb9-bae591878b21",
   "metadata": {},
   "outputs": [],
   "source": [
    "from collections import OrderedDict\n",
    "\n",
    "N = int(input())\n",
    "\n",
    "items = OrderedDict()\n",
    "\n",
    "for _ in range(N):\n",
    "    item = input().split()\n",
    "    name = \" \".join(item[:-1])\n",
    "    price = int(item[-1])\n",
    "    \n",
    "    if name not in items.keys():\n",
    "        items[name] = price\n",
    "    else:\n",
    "        items[name] += price\n",
    "\n",
    "for name, price in zip(items.keys(), items.values()):\n",
    "    print(name, price)"
   ]
  },
  {
   "cell_type": "markdown",
   "id": "956cf6a2-848a-4562-9a65-41785c7f9e18",
   "metadata": {},
   "source": [
    "### Word Order\n",
    "https://www.hackerrank.com/challenges/word-order"
   ]
  },
  {
   "cell_type": "code",
   "execution_count": null,
   "id": "f2c78899-e981-4250-adcf-2db4e4a3beb9",
   "metadata": {},
   "outputs": [],
   "source": [
    "from collections import Counter\n",
    "\n",
    "n = int(input())\n",
    "words = Counter([input() for _ in range(n)]) \n",
    "\n",
    "print(len(words))\n",
    "\n",
    "occurrences = list(map(str, words.values()))\n",
    "print(\" \".join(occurrences))"
   ]
  },
  {
   "cell_type": "markdown",
   "id": "0e6a0f07-d85e-4b89-9d69-0e512c6120e8",
   "metadata": {},
   "source": [
    "### Collections.deque()\n",
    "https://www.hackerrank.com/challenges/py-collections-deque"
   ]
  },
  {
   "cell_type": "code",
   "execution_count": null,
   "id": "3689f047-bd96-4d1e-84fa-01535c27c808",
   "metadata": {},
   "outputs": [],
   "source": [
    "from collections import deque\n",
    "\n",
    "N = int(input())\n",
    "\n",
    "d = deque()\n",
    "\n",
    "for _ in range(N):\n",
    "    cmd = input().split()\n",
    "    \n",
    "    if cmd[0] == \"append\":\n",
    "        d.append(cmd[1])\n",
    "    elif cmd[0] == \"appendleft\":\n",
    "        d.appendleft(cmd[1])\n",
    "    elif cmd[0] == \"pop\":\n",
    "        d.pop()\n",
    "    elif cmd[0] == \"popleft\":\n",
    "        d.popleft()\n",
    "\n",
    "print(\" \".join(d))"
   ]
  },
  {
   "cell_type": "markdown",
   "id": "7b442262-0f45-414e-8c27-7674f292f42b",
   "metadata": {},
   "source": [
    "### Company Logo\n",
    "https://www.hackerrank.com/challenges/most-commons"
   ]
  },
  {
   "cell_type": "code",
   "execution_count": null,
   "id": "b8db649c-4bbd-4e91-bd90-81fd9ffd43da",
   "metadata": {},
   "outputs": [],
   "source": [
    "from collections import Counter\n",
    "\n",
    "chars = Counter([char for char in sorted(input())])\n",
    "\n",
    "logo = dict(chars.most_common(3))\n",
    "\n",
    "for char, occurrences in zip(logo.keys(), logo.values()):\n",
    "    print(char, occurrences)"
   ]
  },
  {
   "cell_type": "markdown",
   "id": "18201641-2943-4541-9a1b-a1404f0f4b54",
   "metadata": {},
   "source": [
    "### Piling Up!\n",
    "https://www.hackerrank.com/challenges/piling-up"
   ]
  },
  {
   "cell_type": "code",
   "execution_count": null,
   "id": "ab0e22a4-b18a-4fb6-8bc4-14bcea9f434f",
   "metadata": {},
   "outputs": [],
   "source": [
    "from collections import deque\n",
    "\n",
    "def stack_cubes(cubes):\n",
    "    \n",
    "    if len(cubes) <= 1:\n",
    "        print(\"Yes\")\n",
    "        return\n",
    "    \n",
    "    bottom_cube = max(cubes[0], cubes[-1])\n",
    "    \n",
    "    for _ in range(len(cubes)):\n",
    "        cube_right = cubes[-1]\n",
    "        cube_left = cubes[0]\n",
    "        \n",
    "        if bottom_cube < max(cubes[0], cubes[-1]):\n",
    "            print(\"No\")\n",
    "            return\n",
    "        else:\n",
    "            if cube_right > cube_left:\n",
    "                bottom_cube = cubes.pop()\n",
    "            else:\n",
    "                bottom_cube = cubes.popleft()\n",
    "        \n",
    "    print(\"Yes\")\n",
    "\n",
    "\n",
    "T = int(input())\n",
    "\n",
    "for _ in range(T):\n",
    "    num_of_cubes = int(input())\n",
    "    \n",
    "    cubes = deque()\n",
    "    cubes.extend(map(int, input().split()))\n",
    "    \n",
    "    stack_cubes(cubes)"
   ]
  }
 ],
 "metadata": {
  "kernelspec": {
   "display_name": "Python 3 (ipykernel)",
   "language": "python",
   "name": "python3"
  },
  "language_info": {
   "codemirror_mode": {
    "name": "ipython",
    "version": 3
   },
   "file_extension": ".py",
   "mimetype": "text/x-python",
   "name": "python",
   "nbconvert_exporter": "python",
   "pygments_lexer": "ipython3",
   "version": "3.7.11"
  }
 },
 "nbformat": 4,
 "nbformat_minor": 5
}
