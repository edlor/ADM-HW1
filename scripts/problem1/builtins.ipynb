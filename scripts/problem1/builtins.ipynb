{
 "cells": [
  {
   "cell_type": "markdown",
   "id": "693ed80f-578c-4fb6-8d5c-e7512e3695ae",
   "metadata": {},
   "source": [
    "# Built-ins"
   ]
  },
  {
   "cell_type": "markdown",
   "id": "3ebf3628-8f94-4b1e-aed5-563f95bd7bcf",
   "metadata": {},
   "source": [
    "### Zipped!\n",
    "https://www.hackerrank.com/challenges/zipped"
   ]
  },
  {
   "cell_type": "code",
   "execution_count": null,
   "id": "23254ee1-51a7-4b56-baba-3daf63d28c5c",
   "metadata": {},
   "outputs": [],
   "source": [
    "N, X = map(int, input().split())\n",
    "\n",
    "subjects = []\n",
    "for _ in range(X):\n",
    "    subjects.append(list(map(float, input().split())))\n",
    "    \n",
    "for marks in zip(*subjects):\n",
    "    avg = sum(marks) / X\n",
    "    print(\"%.1f\" % avg)"
   ]
  },
  {
   "cell_type": "markdown",
   "id": "9c4dc62c-2fcb-4526-b5e2-e4bcf4458f46",
   "metadata": {},
   "source": [
    "### Athlete Sort\n",
    "https://www.hackerrank.com/challenges/python-sort-sort"
   ]
  },
  {
   "cell_type": "code",
   "execution_count": null,
   "id": "9bfa5e3c-425f-465a-a8e1-9edfe794dbe8",
   "metadata": {},
   "outputs": [],
   "source": [
    "N, M = list(map(int, input().split()))\n",
    "\n",
    "athletes = []\n",
    "for _ in range(N):\n",
    "    athlete = list(map(int, input().split()))\n",
    "    athletes.append(athlete)\n",
    "\n",
    "K = int(input())\n",
    "athletes = sorted(athletes, key = lambda athlete: athlete[K])\n",
    "\n",
    "for athlete in athletes:\n",
    "    print(\" \".join(list(map(str, athlete))))"
   ]
  },
  {
   "cell_type": "markdown",
   "id": "a061f656-2f1b-4ddf-b122-03620baa4cbd",
   "metadata": {},
   "source": [
    "### ginortS\n",
    "https://www.hackerrank.com/challenges/ginorts/problem"
   ]
  },
  {
   "cell_type": "code",
   "execution_count": null,
   "id": "68373da6-e0ac-4c80-bbec-82c7a97773e1",
   "metadata": {},
   "outputs": [],
   "source": [
    "s = input()\n",
    "\n",
    "lower = [char for char in s if char.islower()]\n",
    "upper = [char for char in s if char.isupper()]\n",
    "\n",
    "nums = [int(char) for char in s if char.isdigit()]\n",
    "odd = [num for num in nums if num%2 != 0]\n",
    "even = [num for num in nums if num%2 == 0]\n",
    "\n",
    "s_sorted = sorted(lower) + sorted(upper) + sorted(odd) + sorted(even)\n",
    "\n",
    "print(\"\".join(map(str, s_sorted)))"
   ]
  }
 ],
 "metadata": {
  "kernelspec": {
   "display_name": "Python 3 (ipykernel)",
   "language": "python",
   "name": "python3"
  },
  "language_info": {
   "codemirror_mode": {
    "name": "ipython",
    "version": 3
   },
   "file_extension": ".py",
   "mimetype": "text/x-python",
   "name": "python",
   "nbconvert_exporter": "python",
   "pygments_lexer": "ipython3",
   "version": "3.7.11"
  }
 },
 "nbformat": 4,
 "nbformat_minor": 5
}
