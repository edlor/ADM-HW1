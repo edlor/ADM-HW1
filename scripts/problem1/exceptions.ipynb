{
 "cells": [
  {
   "cell_type": "markdown",
   "id": "02a28f31-7211-404e-b5a4-abc2c468874c",
   "metadata": {},
   "source": [
    "# Exceptions\n",
    "https://www.hackerrank.com/challenges/exceptions"
   ]
  },
  {
   "cell_type": "code",
   "execution_count": null,
   "id": "d94cf6a7-ae8a-45d7-b7b8-207878816a98",
   "metadata": {},
   "outputs": [],
   "source": [
    "T = int(input())\n",
    "\n",
    "for _ in range(T):\n",
    "    a, b = input().split()\n",
    "    \n",
    "    try:\n",
    "        print(int(a) // int(b))\n",
    "    except (ValueError, ZeroDivisionError) as err:\n",
    "        print(\"Error Code:\", err)"
   ]
  }
 ],
 "metadata": {
  "kernelspec": {
   "display_name": "Python 3 (ipykernel)",
   "language": "python",
   "name": "python3"
  },
  "language_info": {
   "codemirror_mode": {
    "name": "ipython",
    "version": 3
   },
   "file_extension": ".py",
   "mimetype": "text/x-python",
   "name": "python",
   "nbconvert_exporter": "python",
   "pygments_lexer": "ipython3",
   "version": "3.7.11"
  }
 },
 "nbformat": 4,
 "nbformat_minor": 5
}
