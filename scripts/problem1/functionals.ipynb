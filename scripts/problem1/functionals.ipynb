{
 "cells": [
  {
   "cell_type": "markdown",
   "id": "e523087c-7daf-44c8-b366-98883a33ce55",
   "metadata": {},
   "source": [
    "# Functionals\n",
    "https://www.hackerrank.com/challenges/map-and-lambda-expression"
   ]
  },
  {
   "cell_type": "code",
   "execution_count": null,
   "id": "d0f33754-122d-4029-b0a0-d15e7ff0a910",
   "metadata": {},
   "outputs": [],
   "source": [
    "cube = lambda x: x**3\n",
    "\n",
    "def fibonacci(n):\n",
    "    nums = []\n",
    "    for i in range(n):\n",
    "        if i == 0:\n",
    "            nums.append(0)\n",
    "        elif i == 1 or i == 2:\n",
    "            nums.append(1)\n",
    "        else:\n",
    "            nums.append(nums[i-1]+nums[i-2])\n",
    "    return nums\n",
    "\n",
    "if __name__ == '__main__':\n",
    "    n = int(input())\n",
    "    print(list(map(cube, fibonacci(n))))"
   ]
  }
 ],
 "metadata": {
  "kernelspec": {
   "display_name": "Python 3 (ipykernel)",
   "language": "python",
   "name": "python3"
  },
  "language_info": {
   "codemirror_mode": {
    "name": "ipython",
    "version": 3
   },
   "file_extension": ".py",
   "mimetype": "text/x-python",
   "name": "python",
   "nbconvert_exporter": "python",
   "pygments_lexer": "ipython3",
   "version": "3.7.11"
  }
 },
 "nbformat": 4,
 "nbformat_minor": 5
}
