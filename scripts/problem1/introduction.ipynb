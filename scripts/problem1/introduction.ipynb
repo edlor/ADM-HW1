{
 "cells": [
  {
   "cell_type": "markdown",
   "id": "40dfc05e-3174-42ac-9fe8-fd3f238ec5c0",
   "metadata": {},
   "source": [
    "# Introduction\n",
    "https://www.hackerrank.com/domains/python/py-introduction"
   ]
  },
  {
   "cell_type": "markdown",
   "id": "1390cd1b-ec6d-41de-a6e9-e30a78a9bb68",
   "metadata": {},
   "source": [
    "### Say \"Hello, World!\" With Python!\n",
    "https://www.hackerrank.com/challenges/py-hello-world"
   ]
  },
  {
   "cell_type": "code",
   "execution_count": null,
   "id": "99c98ce0-4794-48f7-9b52-c92194545c4d",
   "metadata": {},
   "outputs": [],
   "source": [
    "print(\"Hello, World!\")"
   ]
  },
  {
   "cell_type": "markdown",
   "id": "687b1b30-5a16-4c37-b9a7-3a08b44e1de8",
   "metadata": {},
   "source": [
    "### Python If-Else\n",
    "https://www.hackerrank.com/challenges/py-if-else"
   ]
  },
  {
   "cell_type": "code",
   "execution_count": null,
   "id": "c604142c-df6a-4453-b2f8-790727e18a4d",
   "metadata": {},
   "outputs": [],
   "source": [
    "if __name__ == '__main__':\n",
    "    n = int(input().strip())\n",
    "\n",
    "    if n % 2 != 0:\n",
    "        print(\"Weird\")\n",
    "    else:\n",
    "        if n >= 2 and n <= 5:\n",
    "            print(\"Not Weird\")\n",
    "        if n >= 6 and n <= 20:\n",
    "            print(\"Weird\")\n",
    "        if n > 20:\n",
    "            print(\"Not Weird\")"
   ]
  },
  {
   "cell_type": "markdown",
   "id": "64686a93-4586-4ddb-9bf6-e3dc9f451fd8",
   "metadata": {},
   "source": [
    "### Arithmetic Operators\n",
    "https://www.hackerrank.com/challenges/python-arithmetic-operators"
   ]
  },
  {
   "cell_type": "code",
   "execution_count": null,
   "id": "38779550-1b4c-4762-99b0-bd361bbd1dfa",
   "metadata": {},
   "outputs": [],
   "source": [
    "if __name__ == '__main__':\n",
    "    a = int(input())\n",
    "    b = int(input())\n",
    "\n",
    "    print(a + b)\n",
    "    print(a - b)\n",
    "    print(a * b)"
   ]
  },
  {
   "cell_type": "markdown",
   "id": "e93846cd-9a3a-421a-85d3-f526780e57eb",
   "metadata": {},
   "source": [
    "### Python: Division\n",
    "https://www.hackerrank.com/challenges/python-division"
   ]
  },
  {
   "cell_type": "code",
   "execution_count": null,
   "id": "b5a38b0c-f3ad-4bd2-a66b-2511086e453b",
   "metadata": {},
   "outputs": [],
   "source": [
    "if __name__ == '__main__':\n",
    "    a = int(input())\n",
    "    b = int(input())\n",
    "\n",
    "    print(a // b)\n",
    "    print(a / b)"
   ]
  },
  {
   "cell_type": "markdown",
   "id": "047c14bf-a7ad-4cd4-9eb9-47906d9d182a",
   "metadata": {},
   "source": [
    "### Loops\n",
    "https://www.hackerrank.com/challenges/python-loops"
   ]
  },
  {
   "cell_type": "code",
   "execution_count": null,
   "id": "b713560e-d09c-46be-9534-0f12f5804c42",
   "metadata": {},
   "outputs": [],
   "source": [
    "if __name__ == '__main__':\n",
    "    n = int(input())\n",
    "\n",
    "    for i in range(n):\n",
    "        print(i * i)"
   ]
  },
  {
   "cell_type": "markdown",
   "id": "8d43b669-5cad-458c-8abe-3194e9b8b6e0",
   "metadata": {},
   "source": [
    "### Write a function\n",
    "https://www.hackerrank.com/challenges/write-a-function"
   ]
  },
  {
   "cell_type": "code",
   "execution_count": null,
   "id": "822ec111-77bd-4f8d-8353-05b6bd2910a5",
   "metadata": {},
   "outputs": [],
   "source": [
    "def is_leap(year):\n",
    "    leap = False\n",
    "\n",
    "    if (year % 4 == 0 and year % 100 != 0) or year % 400 == 0:\n",
    "        leap = True\n",
    "\n",
    "    return leap\n",
    "\n",
    "\n",
    "year = int(input())\n",
    "print(is_leap(year))"
   ]
  },
  {
   "cell_type": "markdown",
   "id": "85002fd7-90e4-468f-b43c-e6c15129a440",
   "metadata": {},
   "source": [
    "### Print Function\n",
    "https://www.hackerrank.com/challenges/python-print"
   ]
  },
  {
   "cell_type": "code",
   "execution_count": null,
   "id": "f7beb127-ed9e-41e1-bff0-ee0d8d3e388b",
   "metadata": {},
   "outputs": [],
   "source": [
    "if __name__ == '__main__':\n",
    "    n = int(input())\n",
    "\n",
    "    for i in range(n):\n",
    "        print(i + 1, end='')"
   ]
  }
 ],
 "metadata": {
  "kernelspec": {
   "display_name": "Python 3 (ipykernel)",
   "language": "python",
   "name": "python3"
  },
  "language_info": {
   "codemirror_mode": {
    "name": "ipython",
    "version": 3
   },
   "file_extension": ".py",
   "mimetype": "text/x-python",
   "name": "python",
   "nbconvert_exporter": "python",
   "pygments_lexer": "ipython3",
   "version": "3.7.11"
  }
 },
 "nbformat": 4,
 "nbformat_minor": 5
}
