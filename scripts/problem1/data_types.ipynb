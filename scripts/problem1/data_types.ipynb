{
 "cells": [
  {
   "cell_type": "markdown",
   "id": "78a911e1-5fe7-411c-85ef-dac96a267874",
   "metadata": {},
   "source": [
    "# Data Types\n",
    "https://www.hackerrank.com/domains/python/py-basic-data-types"
   ]
  },
  {
   "cell_type": "markdown",
   "id": "dd30548e-a7fc-4725-8b09-98419cdff049",
   "metadata": {},
   "source": [
    "### List Comprehensions\n",
    "https://www.hackerrank.com/challenges/list-comprehensions"
   ]
  },
  {
   "cell_type": "code",
   "execution_count": null,
   "id": "54581037-bf2c-41a6-bcd7-f045dcf307dc",
   "metadata": {},
   "outputs": [],
   "source": [
    "if __name__ == '__main__':\n",
    "    x = int(input())\n",
    "    y = int(input())\n",
    "    z = int(input())\n",
    "    n = int(input())\n",
    "\n",
    "    all_perms = [[i,j,k] for i in range(x+1) for j in range(y+1) for k in range(z+1)]\n",
    "    \n",
    "    valid_perms = [p for p in all_perms if sum(p) != n]\n",
    "    \n",
    "    print(valid_perms)"
   ]
  },
  {
   "cell_type": "markdown",
   "id": "6e4b8b48-3c98-41ee-8f7e-56abec6b3c33",
   "metadata": {},
   "source": [
    "### Find the Runner-Up Score!\n",
    "https://www.hackerrank.com/challenges/find-second-maximum-number-in-a-list"
   ]
  },
  {
   "cell_type": "code",
   "execution_count": null,
   "id": "4d8ee446-bd39-4852-9356-d9d51bf614a0",
   "metadata": {},
   "outputs": [],
   "source": [
    "if __name__ == '__main__':\n",
    "    n = int(input())\n",
    "    arr = map(int, input().split())\n",
    "    \n",
    "    all_scores = list(arr)\n",
    "    \n",
    "    runner_up_scores = [x for x in all_scores if x < max(all_scores)]\n",
    "    runner_up = max(runner_up_scores)\n",
    "    \n",
    "    print(runner_up)"
   ]
  },
  {
   "cell_type": "markdown",
   "id": "65a18d4e-f4ba-425e-8e08-57b45a38b713",
   "metadata": {},
   "source": [
    "### Nested Lists\n",
    "https://www.hackerrank.com/challenges/nested-list"
   ]
  },
  {
   "cell_type": "code",
   "execution_count": null,
   "id": "d5ba54ac-218a-4a65-81f7-afbe1646d576",
   "metadata": {},
   "outputs": [],
   "source": [
    "if __name__ == '__main__':\n",
    "    \n",
    "    students = []\n",
    "    \n",
    "    for _ in range(int(input())):\n",
    "        name = input()\n",
    "        score = float(input())\n",
    "        students += [[name, score]]\n",
    "        \n",
    "    scores = [x[1] for x in students]\n",
    "    \n",
    "    scores_without_last = [x for x in scores if x > min(scores)]\n",
    "    second_lowest_score = min(scores_without_last)\n",
    "    \n",
    "    stud_second_lowest_score = [x[0] for x in students if x[1] == second_lowest_score]\n",
    "    stud_second_lowest_score.sort()\n",
    "    \n",
    "    for stud in stud_second_lowest_score:\n",
    "        print(stud)"
   ]
  },
  {
   "cell_type": "markdown",
   "id": "c497121f-3ded-45c9-a1f7-93487eb052d4",
   "metadata": {},
   "source": [
    "### Finding the percentage\n",
    "https://www.hackerrank.com/challenges/finding-the-percentage"
   ]
  },
  {
   "cell_type": "code",
   "execution_count": null,
   "id": "29f39f40-f980-44e9-b3a6-ee6986f9c5ae",
   "metadata": {},
   "outputs": [],
   "source": [
    "if __name__ == '__main__':\n",
    "    n = int(input())\n",
    "    student_marks = {}\n",
    "    for _ in range(n):\n",
    "        name, *line = input().split()\n",
    "        scores = list(map(float, line))\n",
    "        student_marks[name] = scores\n",
    "    query_name = input()\n",
    "    \n",
    "    query_marks = student_marks[query_name]\n",
    "    avg_score = sum(query_marks)/len(query_marks)\n",
    "    \n",
    "    print(\"%.2f\" %avg_score)"
   ]
  },
  {
   "cell_type": "markdown",
   "id": "eff8f16f-015c-48d1-94db-8f62d8884009",
   "metadata": {},
   "source": [
    "### Lists\n",
    "https://www.hackerrank.com/challenges/python-lists"
   ]
  },
  {
   "cell_type": "code",
   "execution_count": null,
   "id": "30c2fc47-d5b0-41db-95df-710e1f4b8d4b",
   "metadata": {},
   "outputs": [],
   "source": [
    "if __name__ == '__main__':\n",
    "    N = int(input())\n",
    "    lst = []\n",
    "    \n",
    "    for cmd in range(N):\n",
    "        cmd = input().split()\n",
    "    \n",
    "        if cmd[0] == \"insert\":\n",
    "            lst.insert(int(cmd[1]), int(cmd[2]))\n",
    "        elif cmd[0] == \"print\":\n",
    "            print(lst)\n",
    "        elif cmd[0] == \"remove\":\n",
    "            lst.remove(int(cmd[1]))\n",
    "        elif cmd[0] == \"append\":\n",
    "            lst.append(int(cmd[1]))\n",
    "        elif cmd[0] == \"sort\":\n",
    "            lst.sort()\n",
    "        elif cmd[0] == \"pop\":\n",
    "            lst.pop()\n",
    "        elif cmd[0] == \"reverse\":\n",
    "            lst.reverse()"
   ]
  },
  {
   "cell_type": "markdown",
   "id": "1df32cda-64c2-42ff-9281-fd2bcdb7abac",
   "metadata": {},
   "source": [
    "### Tuples\n",
    "https://www.hackerrank.com/challenges/python-tuples"
   ]
  },
  {
   "cell_type": "code",
   "execution_count": null,
   "id": "af0e9929-8b9c-4bef-9766-06bb3baa850c",
   "metadata": {},
   "outputs": [],
   "source": [
    "if __name__ == '__main__':\n",
    "    n = int(input())\n",
    "    integer_list = map(int, input().split())\n",
    "    \n",
    "    t = tuple(integer_list)\n",
    "    \n",
    "    print(hash(t))"
   ]
  }
 ],
 "metadata": {
  "kernelspec": {
   "display_name": "Python 3 (ipykernel)",
   "language": "python",
   "name": "python3"
  },
  "language_info": {
   "codemirror_mode": {
    "name": "ipython",
    "version": 3
   },
   "file_extension": ".py",
   "mimetype": "text/x-python",
   "name": "python",
   "nbconvert_exporter": "python",
   "pygments_lexer": "ipython3",
   "version": "3.7.11"
  }
 },
 "nbformat": 4,
 "nbformat_minor": 5
}
