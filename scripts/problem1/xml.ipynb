{
 "cells": [
  {
   "cell_type": "markdown",
   "id": "03bebe6b-95e9-4920-86a7-011b80209c0b",
   "metadata": {},
   "source": [
    "# XML\n",
    "https://www.hackerrank.com/domains/python/xml"
   ]
  },
  {
   "cell_type": "markdown",
   "id": "435f8e6f-15f6-4376-88c8-77839b111b69",
   "metadata": {},
   "source": [
    "### XML 1 - Find the Score\n",
    "https://www.hackerrank.com/challenges/xml-1-find-the-score"
   ]
  },
  {
   "cell_type": "code",
   "execution_count": null,
   "id": "85e1f030-04c5-4b66-95fc-124f9086c322",
   "metadata": {},
   "outputs": [],
   "source": [
    "import sys\n",
    "import xml.etree.ElementTree as etree\n",
    "\n",
    "def get_attr_number(node):\n",
    "    elements = [elem for elem in node.iter()]\n",
    "    score = sum([len(elem.attrib) for elem in elements])\n",
    "    return score\n",
    "\n",
    "if __name__ == '__main__':\n",
    "    sys.stdin.readline()\n",
    "    xml = sys.stdin.read()\n",
    "    tree = etree.ElementTree(etree.fromstring(xml))\n",
    "    root = tree.getroot()\n",
    "    print(get_attr_number(root))"
   ]
  },
  {
   "cell_type": "markdown",
   "id": "3f7283d9-e1eb-478a-a6a8-acd6c8912d2d",
   "metadata": {},
   "source": [
    "### XML 2 - Find the Maximum Depth\n",
    "https://www.hackerrank.com/challenges/xml2-find-the-maximum-depth\n",
    "\n",
    "I unlocked test case 8."
   ]
  },
  {
   "cell_type": "code",
   "execution_count": null,
   "id": "f154d81f-3226-45b5-be85-fcaa4f6f8bb0",
   "metadata": {},
   "outputs": [],
   "source": [
    "import xml.etree.ElementTree as etree\n",
    "\n",
    "maxdepth = 0\n",
    "def depth(elem, level):\n",
    "    global maxdepth\n",
    "    maxdepth = max(maxdepth, level + 1)\n",
    "    for child in elem:\n",
    "        depth(child, level + 1)\n",
    "\n",
    "if __name__ == '__main__':\n",
    "    n = int(input())\n",
    "    xml = \"\"\n",
    "    for i in range(n):\n",
    "        xml =  xml + input() + \"\\n\"\n",
    "    tree = etree.ElementTree(etree.fromstring(xml))\n",
    "    depth(tree.getroot(), -1)\n",
    "    print(maxdepth)"
   ]
  }
 ],
 "metadata": {
  "kernelspec": {
   "display_name": "Python 3 (ipykernel)",
   "language": "python",
   "name": "python3"
  },
  "language_info": {
   "codemirror_mode": {
    "name": "ipython",
    "version": 3
   },
   "file_extension": ".py",
   "mimetype": "text/x-python",
   "name": "python",
   "nbconvert_exporter": "python",
   "pygments_lexer": "ipython3",
   "version": "3.7.11"
  }
 },
 "nbformat": 4,
 "nbformat_minor": 5
}
