{
 "cells": [
  {
   "cell_type": "markdown",
   "id": "a4c1637d-c3df-48d8-8051-79ebde206c2d",
   "metadata": {},
   "source": [
    "# Date and Time\n",
    "https://www.hackerrank.com/domains/python/py-date-time"
   ]
  },
  {
   "cell_type": "markdown",
   "id": "a376ce3e-c516-471b-9956-d0339cfaf987",
   "metadata": {},
   "source": [
    "### Calendar Module\n",
    "https://www.hackerrank.com/challenges/calendar-module"
   ]
  },
  {
   "cell_type": "code",
   "execution_count": null,
   "id": "530fe7af-8c42-473a-8021-ee5328891792",
   "metadata": {},
   "outputs": [],
   "source": [
    "import calendar\n",
    "\n",
    "month, day, year = map(int, input().split())\n",
    "\n",
    "day_names = [day.upper() for day in calendar.day_name]\n",
    "\n",
    "print(day_names[calendar.weekday(year, month, day)])"
   ]
  },
  {
   "cell_type": "markdown",
   "id": "3806b5ff-a5ea-4aa4-8a6f-07d1beb29ce4",
   "metadata": {},
   "source": [
    "### Time Delta\n",
    "https://www.hackerrank.com/challenges/python-time-delta"
   ]
  },
  {
   "cell_type": "code",
   "execution_count": null,
   "id": "349c89cf-5fc2-4804-b08f-023198d384f2",
   "metadata": {},
   "outputs": [],
   "source": [
    "from datetime import datetime, timedelta\n",
    "import calendar\n",
    "\n",
    "def tz_parser(tz):\n",
    "    ''' tz as a string '+hhmm' '''\n",
    "    sign = tz[0]\n",
    "    hours = tz[1:3]\n",
    "    minutes = tz[3:]\n",
    "    \n",
    "    return(int(sign + hours), int(sign + minutes))\n",
    "\n",
    "def timestamp_parser_utc(timestamp):\n",
    "    ''' timestamp as a string\n",
    "    'Day dd Mon yyyy hh:mm:ss +xxxx' '''\n",
    "    \n",
    "    _, day, month_name, year, time, tz = timestamp.split()\n",
    "    hour, minute, second = time.split(\":\")\n",
    "    \n",
    "    month_names = dict([[name, num] for num, name in enumerate(calendar.month_abbr) if num > 0])\n",
    "    \n",
    "    t = datetime(year=int(year),\n",
    "                  day=int(day), \n",
    "                  month=month_names[month_name], \n",
    "                  hour=int(hour), \n",
    "                  minute=int(minute), \n",
    "                  second=int(second))\n",
    "    \n",
    "    hours_to_utc, minutes_to_utc = tz_parser(tz)\n",
    "    \n",
    "    t_utc = timedelta(hours = hours_to_utc, minutes = minutes_to_utc)\n",
    "    \n",
    "    return(t-t_utc)\n",
    "        \n",
    "def time_delta(t1, t2):\n",
    "    t1 = timestamp_parser_utc(t1)\n",
    "    t2 = timestamp_parser_utc(t2)\n",
    "    \n",
    "    delta = t1 - t2\n",
    "    \n",
    "    return(abs(int(delta.total_seconds())))\n",
    "\n",
    "if __name__ == '__main__':\n",
    "    T = int(input())\n",
    "\n",
    "    for _ in range(T):\n",
    "        t1 = input()\n",
    "        t2 = input()\n",
    "\n",
    "        print(time_delta(t1, t2))"
   ]
  }
 ],
 "metadata": {
  "kernelspec": {
   "display_name": "Python 3 (ipykernel)",
   "language": "python",
   "name": "python3"
  },
  "language_info": {
   "codemirror_mode": {
    "name": "ipython",
    "version": 3
   },
   "file_extension": ".py",
   "mimetype": "text/x-python",
   "name": "python",
   "nbconvert_exporter": "python",
   "pygments_lexer": "ipython3",
   "version": "3.7.11"
  }
 },
 "nbformat": 4,
 "nbformat_minor": 5
}
