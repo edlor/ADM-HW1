{
 "cells": [
  {
   "cell_type": "markdown",
   "id": "38c443b8-09ad-4a3f-b0ad-41a2f5cd7140",
   "metadata": {},
   "source": [
    "# Strings\n",
    "https://www.hackerrank.com/domains/python/py-strings"
   ]
  },
  {
   "cell_type": "markdown",
   "id": "857e0b12-fdb0-4606-a243-85a3eef8a148",
   "metadata": {},
   "source": [
    "### sWAP cASE\n",
    "https://www.hackerrank.com/challenges/swap-case\n",
    "\n",
    "I could have simply used the `swapcase()` method, but since the task was about 'completing the `swap_case` function' it seemed more fitting to me to do it this way."
   ]
  },
  {
   "cell_type": "code",
   "execution_count": null,
   "id": "023e551d-f6df-492c-a564-7410785ec7eb",
   "metadata": {},
   "outputs": [],
   "source": [
    "def swap_case(s):\n",
    "    new_s = ''\n",
    "    \n",
    "    for char in s:\n",
    "        new_s += char.capitalize() if char.islower() else char.lower()\n",
    "            \n",
    "    return new_s\n",
    "\n",
    "if __name__ == '__main__':\n",
    "    s = input()\n",
    "    result = swap_case(s)\n",
    "    print(result)"
   ]
  },
  {
   "cell_type": "markdown",
   "id": "2648b479-603b-4624-bc75-8b5a3c352b05",
   "metadata": {},
   "source": [
    "### String Split and Join\n",
    "https://www.hackerrank.com/challenges/python-string-split-and-join"
   ]
  },
  {
   "cell_type": "code",
   "execution_count": null,
   "id": "8df1f65c-20e2-4f16-9603-5e73de964910",
   "metadata": {},
   "outputs": [],
   "source": [
    "def split_and_join(line):\n",
    "    return \"-\".join(line.split())\n",
    "\n",
    "if __name__ == '__main__':\n",
    "    line = input()\n",
    "    result = split_and_join(line)\n",
    "    print(result)"
   ]
  },
  {
   "cell_type": "markdown",
   "id": "8b0d45cc-3684-4f1f-be07-2e5c17a1052c",
   "metadata": {},
   "source": [
    "### What's Your Name?\n",
    "https://www.hackerrank.com/challenges/whats-your-name"
   ]
  },
  {
   "cell_type": "code",
   "execution_count": null,
   "id": "070eddde-088c-4f22-99f1-1ec98eda874a",
   "metadata": {},
   "outputs": [],
   "source": [
    "def print_full_name(first, last):\n",
    "    print(f\"Hello {first} {last}! You just delved into python.\")\n",
    "\n",
    "if __name__ == '__main__':\n",
    "    first_name = input()\n",
    "    last_name = input()\n",
    "    print_full_name(first_name, last_name)"
   ]
  },
  {
   "cell_type": "markdown",
   "id": "32a80f85-86e7-4e2c-98af-7df081f27640",
   "metadata": {},
   "source": [
    "### Mutations\n",
    "https://www.hackerrank.com/challenges/python-mutations"
   ]
  },
  {
   "cell_type": "code",
   "execution_count": null,
   "id": "1d9cc3f9-61b6-49f0-af59-831122683feb",
   "metadata": {},
   "outputs": [],
   "source": [
    "def mutate_string(string, position, character):\n",
    "    lst = list(string)\n",
    "    lst[position] = character\n",
    "    return ''.join(lst)\n",
    "\n",
    "if __name__ == '__main__':\n",
    "    s = input()\n",
    "    i, c = input().split()\n",
    "    s_new = mutate_string(s, int(i), c)\n",
    "    print(s_new)"
   ]
  },
  {
   "cell_type": "markdown",
   "id": "443615c9-8db6-43d9-a142-7a07e826e6cf",
   "metadata": {},
   "source": [
    "### Find a string\n",
    "https://www.hackerrank.com/challenges/find-a-string"
   ]
  },
  {
   "cell_type": "code",
   "execution_count": null,
   "id": "5327ddbe-98ee-4a27-8938-4a4ca556edf4",
   "metadata": {},
   "outputs": [],
   "source": [
    "def count_substring(string, sub_string):\n",
    "    index = string.find(sub_string)\n",
    "    if index != -1:\n",
    "        new_string = string[index+1:]\n",
    "        return 1 + count_substring(new_string, sub_string)\n",
    "    else:\n",
    "        return 0\n",
    "\n",
    "if __name__ == '__main__':\n",
    "    string = input().strip()\n",
    "    sub_string = input().strip()\n",
    "    \n",
    "    count = count_substring(string, sub_string)\n",
    "    print(count)"
   ]
  },
  {
   "cell_type": "markdown",
   "id": "e20e8d3c-0b53-4e62-972b-5573a9080312",
   "metadata": {},
   "source": [
    "### String Validators\n",
    "https://www.hackerrank.com/challenges/string-validators"
   ]
  },
  {
   "cell_type": "code",
   "execution_count": null,
   "id": "f8469018-727d-44a2-a710-5267ac7db356",
   "metadata": {},
   "outputs": [],
   "source": [
    "if __name__ == '__main__':\n",
    "    s = input()\n",
    "    \n",
    "    validators = {\"alnum\": False, \"alpha\": False, \"digit\": False, \"lower\": False, \"upper\": False}\n",
    "    \n",
    "    for char in s:\n",
    "        if char.isalnum():\n",
    "            validators[\"alnum\"] = True\n",
    "        if char.isalpha():\n",
    "            validators[\"alpha\"] = True\n",
    "        if char.isdigit():\n",
    "            validators[\"digit\"] = True        \n",
    "        if char.islower():\n",
    "            validators[\"lower\"] = True\n",
    "        if char.isupper():\n",
    "            validators[\"upper\"] = True\n",
    "\n",
    "    for value in validators.values():\n",
    "        print(value)"
   ]
  },
  {
   "cell_type": "markdown",
   "id": "8f8d13e6-2e8d-447f-bdba-6d0a4514abeb",
   "metadata": {},
   "source": [
    "### Text Alignment\n",
    "https://www.hackerrank.com/challenges/text-alignment"
   ]
  },
  {
   "cell_type": "code",
   "execution_count": null,
   "id": "ae6edc28-8924-4f77-a3d8-edce182fd789",
   "metadata": {},
   "outputs": [],
   "source": [
    "thickness = int(input()) #This must be an odd number\n",
    "c = 'H'\n",
    "\n",
    "#Top Cone\n",
    "for i in range(thickness):\n",
    "    print((c*i).rjust(thickness-1)+c+(c*i).ljust(thickness-1))\n",
    "\n",
    "#Top Pillars\n",
    "for i in range(thickness+1):\n",
    "    print((c*thickness).center(thickness*2)+(c*thickness).center(thickness*6))\n",
    "    \n",
    "#Middle Belt\n",
    "for i in range((thickness+1)//2):\n",
    "    print((c*thickness*5).center(thickness*6))    \n",
    "\n",
    "#Bottom Pillars\n",
    "for i in range(thickness+1):\n",
    "    print((c*thickness).center(thickness*2)+(c*thickness).center(thickness*6))    \n",
    "\n",
    "#Bottom Cone\n",
    "for i in range(thickness):\n",
    "    print(((c*(thickness-i-1)).rjust(thickness)+c+(c*(thickness-i-1)).ljust(thickness)).rjust(thickness*6))"
   ]
  },
  {
   "cell_type": "markdown",
   "id": "5e0037a1-0411-4b66-85f9-790256b28bfd",
   "metadata": {},
   "source": [
    "### Text Wrap\n",
    "https://www.hackerrank.com/challenges/text-wrap"
   ]
  },
  {
   "cell_type": "code",
   "execution_count": null,
   "id": "ca91a0c3-0d1e-488d-927a-a66c41e53a19",
   "metadata": {},
   "outputs": [],
   "source": [
    "import textwrap\n",
    "\n",
    "def wrap(string, max_width):\n",
    "    lst = textwrap.wrap(string, width = max_width)\n",
    "    return \"\\n\".join(lst)\n",
    "\n",
    "if __name__ == '__main__':\n",
    "    string, max_width = input(), int(input())\n",
    "    result = wrap(string, max_width)\n",
    "    print(result)"
   ]
  },
  {
   "cell_type": "markdown",
   "id": "a48efd47-86e1-4e08-9998-689b33f88d60",
   "metadata": {},
   "source": [
    "### Designer Door Mat\n",
    "https://www.hackerrank.com/challenges/designer-door-mat"
   ]
  },
  {
   "cell_type": "code",
   "execution_count": null,
   "id": "be2795bd-e63c-4ddd-acc5-a3342e6b64f0",
   "metadata": {},
   "outputs": [],
   "source": [
    "N, M = map(int, input().split())\n",
    "\n",
    "pattern = \".|.\"\n",
    "\n",
    "for idx in range(N):\n",
    "    \n",
    "    if idx < N//2:\n",
    "        line = ((2*idx + 1)*pattern).center(M, \"-\")\n",
    "    elif idx == N//2:\n",
    "        line = ('WELCOME').center(M, \"-\")\n",
    "    else:\n",
    "        line = ((2*(N-idx)-1)*pattern).center(M, \"-\")\n",
    "        \n",
    "    print(line)"
   ]
  },
  {
   "cell_type": "markdown",
   "id": "0adabc95-5b52-487e-9cb2-07be8673e693",
   "metadata": {},
   "source": [
    "### String Formatting\n",
    "https://www.hackerrank.com/challenges/python-string-formatting"
   ]
  },
  {
   "cell_type": "code",
   "execution_count": null,
   "id": "f0d60afc-478c-4a2b-9214-739e7fdb11c1",
   "metadata": {},
   "outputs": [],
   "source": [
    "def print_formatted(number):\n",
    "    width = len(bin(number)[2:])\n",
    "    for i in range(1,number+1):\n",
    "        print('{0:{width}d} {0:{width}o} {0:{width}X} {0:{width}b}'.format(i, width = width))\n",
    "\n",
    "if __name__ == '__main__':\n",
    "    n = int(input())\n",
    "    print_formatted(n)"
   ]
  },
  {
   "cell_type": "markdown",
   "id": "e6aebf6e-b3c3-4988-b0db-203713cb1eec",
   "metadata": {},
   "source": [
    "### Alphabet Rangoli\n",
    "https://www.hackerrank.com/challenges/alphabet-rangoli"
   ]
  },
  {
   "cell_type": "code",
   "execution_count": null,
   "id": "f7ab738c-9271-4577-898e-aa8f4b282688",
   "metadata": {},
   "outputs": [],
   "source": [
    "import string\n",
    "\n",
    "def print_rangoli(size):\n",
    "    # total height (number of rows)\n",
    "    height = 2*size - 1\n",
    "\n",
    "    # total width (number of columns)\n",
    "    width = 4*size - 3\n",
    "\n",
    "    # takes the first 'size' letters\n",
    "    # and puts them in reverse order\n",
    "    alphabet = string.ascii_lowercase[(size-1)::-1]\n",
    "\n",
    "    for line in range(1, height + 1): \n",
    "        # an if is needed because 'line' and thus 'char'\n",
    "        # will get bigger than 'size'\n",
    "        # (index of 'alphabet' > len of 'alphabet')\n",
    "        if line <= size:\n",
    "            letters = [alphabet[char] for char in range(line)]\n",
    "        else:\n",
    "            letters = [alphabet[char] for char in range(height - line + 1)]\n",
    "\n",
    "        # 'letters' is joined with the same set of letters\n",
    "        # but reversed and with the first excluded\n",
    "        # (otherwise it would print the letter in the middle twice)\n",
    "        letters += letters[-2::-1]\n",
    "\n",
    "        line = \"-\".join(letters)\n",
    "        print(line.center(width, '-'))\n",
    "        \n",
    "\n",
    "if __name__ == '__main__':\n",
    "    n = int(input())\n",
    "    print_rangoli(n)"
   ]
  },
  {
   "cell_type": "markdown",
   "id": "b9061a06-90a9-4c0b-bda8-c33a0b76017a",
   "metadata": {},
   "source": [
    "### Capitalize!\n",
    "https://www.hackerrank.com/challenges/capitalize"
   ]
  },
  {
   "cell_type": "code",
   "execution_count": null,
   "id": "beb67336-e22e-4101-bad7-20425c118d81",
   "metadata": {},
   "outputs": [],
   "source": [
    "#!/bin/python3\n",
    "\n",
    "import math\n",
    "import os\n",
    "import random\n",
    "import re\n",
    "import sys\n",
    "\n",
    "# Complete the solve function below.\n",
    "def solve(s):\n",
    "    names = s.split(\" \")\n",
    "    cap_name = [name.capitalize() for name in names]\n",
    "    \n",
    "    return \" \".join(cap_name)\n",
    "\n",
    "\n",
    "if __name__ == '__main__':\n",
    "    fptr = open(os.environ['OUTPUT_PATH'], 'w')\n",
    "\n",
    "    s = input()\n",
    "\n",
    "    result = solve(s)\n",
    "\n",
    "    fptr.write(result + '\\n')\n",
    "\n",
    "    fptr.close()"
   ]
  },
  {
   "cell_type": "markdown",
   "id": "5a03b05c-012c-406c-907c-a51dc90d8393",
   "metadata": {},
   "source": [
    "### The Minion Game\n",
    "https://www.hackerrank.com/challenges/the-minion-game"
   ]
  },
  {
   "cell_type": "code",
   "execution_count": null,
   "id": "962fe80b-1e32-4c88-82f8-04a7cfd4c720",
   "metadata": {},
   "outputs": [],
   "source": [
    "def minion_game(string):\n",
    "\n",
    "    vowels = \"AEIOU\"    \n",
    "    points = {\"Kevin\": 0, \"Stuart\": 0}\n",
    "    \n",
    "    string_length = len(string)\n",
    "\n",
    "    for index, char in enumerate(string):\n",
    "        if char in vowels:\n",
    "            points[\"Kevin\"] += string_length - index\n",
    "        else:\n",
    "            points[\"Stuart\"] += string_length - index\n",
    "                     \n",
    "    if points[\"Kevin\"] > points[\"Stuart\"]:\n",
    "        print(\"Kevin\", points[\"Kevin\"])\n",
    "    elif points[\"Kevin\"] < points[\"Stuart\"]:\n",
    "        print(\"Stuart\", points[\"Stuart\"])\n",
    "    else:\n",
    "        print(\"Draw\")\n",
    "        \n",
    "\n",
    "if __name__ == '__main__':\n",
    "    s = input()\n",
    "    minion_game(s)"
   ]
  },
  {
   "cell_type": "markdown",
   "id": "b92e9fe4-4db5-4f91-8aa4-ecd2c7090f56",
   "metadata": {},
   "source": [
    "### Merge the Tools!\n",
    "https://www.hackerrank.com/challenges/merge-the-tools"
   ]
  },
  {
   "cell_type": "code",
   "execution_count": null,
   "id": "68db0548-e68d-40ee-b9f4-db7ab6565e4f",
   "metadata": {},
   "outputs": [],
   "source": [
    "def merge_the_tools(string, k):\n",
    "\n",
    "    num_of_substrings = len(string)//k\n",
    "    \n",
    "    # list with elements the substrings of length k in 'string'\n",
    "    substrings = [string[k*index:k*(index+1)] for index, _ in enumerate(range(num_of_substrings))]\n",
    "    \n",
    "    # 'merged' is the list containing the elements in 'substrings'\n",
    "    # but each with distinct characters\n",
    "    # e.g.\n",
    "    # substrings = [\"AAB\", \"CAA\", \"ADA\"]\n",
    "    # merged = [\"AB\", \"CA\", \"AD\"]\n",
    "    merged = []\n",
    "    for index, sub in enumerate(substrings):\n",
    "        merged.append('')\n",
    "        \n",
    "        # each character in 'sub' is only added to\n",
    "        # to the string merged[index] if that character\n",
    "        # is not already in that string\n",
    "        for char in sub:\n",
    "            if char not in merged[index]:\n",
    "                merged[index] += char\n",
    "                \n",
    "        print(merged[index])\n",
    "\n",
    "        \n",
    "if __name__ == '__main__':\n",
    "    string, k = input(), int(input())\n",
    "    merge_the_tools(string, k)"
   ]
  }
 ],
 "metadata": {
  "kernelspec": {
   "display_name": "Python 3 (ipykernel)",
   "language": "python",
   "name": "python3"
  },
  "language_info": {
   "codemirror_mode": {
    "name": "ipython",
    "version": 3
   },
   "file_extension": ".py",
   "mimetype": "text/x-python",
   "name": "python",
   "nbconvert_exporter": "python",
   "pygments_lexer": "ipython3",
   "version": "3.7.11"
  }
 },
 "nbformat": 4,
 "nbformat_minor": 5
}
